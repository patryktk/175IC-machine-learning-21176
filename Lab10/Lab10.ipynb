{
  "nbformat": 4,
  "nbformat_minor": 0,
  "metadata": {
    "colab": {
      "name": "Lab10.ipynb",
      "provenance": [],
      "authorship_tag": "ABX9TyMFG1bIy7L43mb6SiryAXGa",
      "include_colab_link": true
    },
    "kernelspec": {
      "name": "python3",
      "display_name": "Python 3"
    }
  },
  "cells": [
    {
      "cell_type": "markdown",
      "metadata": {
        "id": "view-in-github",
        "colab_type": "text"
      },
      "source": [
        "<a href=\"https://colab.research.google.com/github/patryktk/175IC-machine-learning-21176/blob/main/Lab10/Lab10.ipynb\" target=\"_parent\"><img src=\"https://colab.research.google.com/assets/colab-badge.svg\" alt=\"Open In Colab\"/></a>"
      ]
    },
    {
      "cell_type": "code",
      "metadata": {
        "id": "DIqFZ7UGtw6v"
      },
      "source": [
        "import concurrent.futures\r\n",
        "import requests\r\n",
        "import threading\r\n",
        "import time\r\n",
        "import asyncio\r\n",
        "import aiohttp\r\n",
        "import nest_asyncio\r\n",
        "import multiprocessing\r\n",
        "import os\r\n",
        "from urllib import request\r\n",
        "from imgurpython import ImgurClient\r\n",
        "import timeit\r\n",
        "import json\r\n",
        "from concurrent.futures import ThreadPoolExecutor"
      ],
      "execution_count": 43,
      "outputs": []
    },
    {
      "cell_type": "code",
      "metadata": {
        "id": "8jhe12Gcw4Xo"
      },
      "source": [
        "def download_site(url, session):\r\n",
        "    with session.get(url) as response:\r\n",
        "        print(f\"Read {len(response.content)} from {url}\")\r\n",
        "\r\n",
        "\r\n",
        "def download_all_sites(sites):\r\n",
        "    with requests.Session() as session:\r\n",
        "        for url in sites:\r\n",
        "            download_site(url, session)\r\n",
        "\r\n",
        "\r\n",
        "if __name__ == \"__main__\":\r\n",
        "    sites = [\r\n",
        "        \"https://www.jython.org\",\r\n",
        "        \"http://olympus.realpython.org/dice\",\r\n",
        "    ] * 80\r\n",
        "    start_time = time.time()\r\n",
        "    download_all_sites(sites)\r\n",
        "    duration_sync = time.time() - start_time\r\n",
        "    print(f\"Downloaded {len(sites)} in {duration} seconds\")"
      ],
      "execution_count": null,
      "outputs": []
    },
    {
      "cell_type": "code",
      "metadata": {
        "id": "QQnD31QSxlxr"
      },
      "source": [
        "thread_local = threading.local()\r\n",
        "\r\n",
        "\r\n",
        "def get_session():\r\n",
        "    if not hasattr(thread_local, \"session\"):\r\n",
        "        thread_local.session = requests.Session()\r\n",
        "    return thread_local.session\r\n",
        "\r\n",
        "\r\n",
        "def download_site(url):\r\n",
        "    session = get_session()\r\n",
        "    with session.get(url) as response:\r\n",
        "        print(f\"Read {len(response.content)} from {url}\")\r\n",
        "\r\n",
        "\r\n",
        "def download_all_sites(sites):\r\n",
        "    with concurrent.futures.ThreadPoolExecutor(max_workers=5) as executor:\r\n",
        "        executor.map(download_site, sites)\r\n",
        "\r\n",
        "\r\n",
        "if __name__ == \"__main__\":\r\n",
        "    sites = [\r\n",
        "        \"https://www.jython.org\",\r\n",
        "        \"http://olympus.realpython.org/dice\",\r\n",
        "    ] * 80\r\n",
        "    start_time = time.time()\r\n",
        "    download_all_sites(sites)\r\n",
        "    duration_thread = time.time() - start_time\r\n",
        "    print(f\"Downloaded {len(sites)} in {duration} seconds\")"
      ],
      "execution_count": null,
      "outputs": []
    },
    {
      "cell_type": "code",
      "metadata": {
        "id": "CLUi7hoAyhbm"
      },
      "source": [
        "async def download_site(session, url):\r\n",
        "    async with session.get(url) as response:\r\n",
        "        print(\"Read {0} from {1}\".format(response.content_length, url))\r\n",
        "\r\n",
        "\r\n",
        "async def download_all_sites(sites):\r\n",
        "    async with aiohttp.ClientSession() as session:\r\n",
        "        tasks = []\r\n",
        "        for url in sites:\r\n",
        "            task = asyncio.ensure_future(download_site(session, url))\r\n",
        "            tasks.append(task)\r\n",
        "        await asyncio.gather(*tasks, return_exceptions=True)\r\n",
        "\r\n",
        "\r\n",
        "if __name__ == \"__main__\":\r\n",
        "    sites = [\r\n",
        "        \"https://www.jython.org\",\r\n",
        "        \"http://olympus.realpython.org/dice\",\r\n",
        "    ] * 80\r\n",
        "    nest_asyncio.apply()\r\n",
        "    start_time = time.time()\r\n",
        "    asyncio.get_event_loop().run_until_complete(download_all_sites(sites))\r\n",
        "    duration_asyncio = time.time() - start_time\r\n",
        "    print(f\"Downloaded {len(sites)} sites in {duration} seconds\")"
      ],
      "execution_count": null,
      "outputs": []
    },
    {
      "cell_type": "code",
      "metadata": {
        "id": "GW9ajfaR3_Pj"
      },
      "source": [
        "session = None\r\n",
        "\r\n",
        "\r\n",
        "def set_global_session():\r\n",
        "    global session\r\n",
        "    if not session:\r\n",
        "        session = requests.Session()\r\n",
        "\r\n",
        "\r\n",
        "def download_site(url):\r\n",
        "    with session.get(url) as response:\r\n",
        "        name = multiprocessing.current_process().name\r\n",
        "        print(f\"{name}:Read {len(response.content)} from {url}\")\r\n",
        "\r\n",
        "\r\n",
        "def download_all_sites(sites):\r\n",
        "    with multiprocessing.Pool(initializer=set_global_session) as pool:\r\n",
        "        pool.map(download_site, sites)\r\n",
        "\r\n",
        "\r\n",
        "if __name__ == \"__main__\":\r\n",
        "    sites = [\r\n",
        "        \"https://www.jython.org\",\r\n",
        "        \"http://olympus.realpython.org/dice\",\r\n",
        "    ] * 80\r\n",
        "    start_time = time.time()\r\n",
        "    download_all_sites(sites)\r\n",
        "    duration_multiproc = time.time() - start_time\r\n",
        "    print(f\"Downloaded {len(sites)} in {duration} seconds\")"
      ],
      "execution_count": null,
      "outputs": []
    },
    {
      "cell_type": "code",
      "metadata": {
        "colab": {
          "base_uri": "https://localhost:8080/"
        },
        "id": "W1jlPCeC4OrN",
        "outputId": "0c753961-8c6c-42c1-fa48-7bdeea788afb"
      },
      "source": [
        "def cpu_bound(number):\r\n",
        "    return sum(i * i for i in range(number))\r\n",
        "\r\n",
        "\r\n",
        "def find_sums(numbers):\r\n",
        "    with multiprocessing.Pool() as pool:\r\n",
        "        pool.map(cpu_bound, numbers)\r\n",
        "\r\n",
        "\r\n",
        "if __name__ == \"__main__\":\r\n",
        "    numbers = [5_000_000 + x for x in range(20)]\r\n",
        "\r\n",
        "    start_time = time.time()\r\n",
        "    find_sums(numbers)\r\n",
        "    duration = time.time() - start_time\r\n",
        "    print(f\"Duration {duration} seconds\")"
      ],
      "execution_count": 24,
      "outputs": [
        {
          "output_type": "stream",
          "text": [
            "Duration 10.5450599193573 seconds\n"
          ],
          "name": "stdout"
        }
      ]
    },
    {
      "cell_type": "code",
      "metadata": {
        "colab": {
          "base_uri": "https://localhost:8080/"
        },
        "id": "GJBl1rl2556W",
        "outputId": "db9b10cc-f46c-4365-95c9-fe5454c35244"
      },
      "source": [
        "print(f\"Synchronic: {duration_sync} seconds\")\r\n",
        "print(f\"Threading: {duration_thread} seconds\")\r\n",
        "print(f\"Asyncio: {duration_asyncio} seconds\")\r\n",
        "print(f\"Multiprocessing: {duration_multiproc} seconds \\n\")"
      ],
      "execution_count": 37,
      "outputs": [
        {
          "output_type": "stream",
          "text": [
            "Synchronic: 3.0520334243774414 seconds\n",
            "Threading: 1.0360848903656006 seconds\n",
            "Asyncio: 3.0479607582092285 seconds\n",
            "Multiprocessing: 2.229825496673584 seconds \n",
            "\n"
          ],
          "name": "stdout"
        }
      ]
    },
    {
      "cell_type": "code",
      "metadata": {
        "colab": {
          "base_uri": "https://localhost:8080/"
        },
        "id": "1iF0k4IFSayb",
        "outputId": "b3001b74-12fe-4bb4-f7f9-857236f093f7"
      },
      "source": [
        "#Synchronous\r\n",
        "def download_images():\r\n",
        "    response = requests.get(\"https://picsum.photos/v2/list\")\r\n",
        "    if response.status_code != 200:\r\n",
        "        raise AttributeError('GET /tasks/ {}'.format(response.status_code))\r\n",
        "    data = json.loads(response.text)[:10]\r\n",
        "\r\n",
        "    pictures=[]\r\n",
        "    for s in data:\r\n",
        "        pictures.append(s['download_url']+\".jpg\")\r\n",
        "    return pictures\r\n",
        "\r\n",
        "def saveImages(link):\r\n",
        "    filename = link.split('/')[6].split('.')[0]\r\n",
        "    fileformat = link.split('/')[6].split('.')[1]\r\n",
        "    request.urlretrieve(link, \"picture/{}.{}\".format(filename, fileformat))\r\n",
        "\r\n",
        "def main():\r\n",
        "    images = download_images()\r\n",
        "    for image in images:\r\n",
        "        saveImages(image)\r\n",
        "\r\n",
        "start_time = time.time()\r\n",
        "main()\r\n",
        "duration_synch = time.time() - start_time\r\n",
        "print(f\"Time taken: {duration_synch}\")"
      ],
      "execution_count": 49,
      "outputs": [
        {
          "output_type": "stream",
          "text": [
            "Time taken: 6.709909915924072\n"
          ],
          "name": "stdout"
        }
      ]
    },
    {
      "cell_type": "code",
      "metadata": {
        "id": "oy05M4ZHcUSy"
      },
      "source": [
        "#Multithreading\r\n",
        "def process_images_threading():\r\n",
        "    images = download_images()\r\n",
        "    with ThreadPoolExecutor(max_workers=5) as executor:\r\n",
        "        executor.map(saveImages,images)\r\n",
        "\r\n",
        "start_time = time.time()\r\n",
        "process_images_threading()\r\n",
        "duration_multithreading = time.time() - start_time\r\n",
        "print(f\"Time taken: {duration_multithreading}\")"
      ],
      "execution_count": null,
      "outputs": []
    },
    {
      "cell_type": "code",
      "metadata": {
        "id": "tZdApWD8ccNQ"
      },
      "source": [
        "#Asyncio\r\n",
        "async def download_images_asyncio(link, session):\r\n",
        "    filename = link.split('/')[6].split('.')[0]\r\n",
        "    fileformat = link.split('/')[6].split('.')[1]\r\n",
        "    async with session.get(link) as response:\r\n",
        "        with open(\"picture/{}.{}\".format(filename, fileformat), 'wb') as fd:\r\n",
        "            async for data in response.content.iter_chunked(1024):\r\n",
        "                fd.write(data)\r\n",
        "\r\n",
        "async def main_asyncio():\r\n",
        "    images = download_images()\r\n",
        "\r\n",
        "    async with aiohttp.ClientSession() as session:\r\n",
        "        tasks=[download_images_asyncio(image,session)for image in images]\r\n",
        "        return await asyncio.gather(*tasks)\r\n",
        "\r\n",
        "start_time = time.time()\r\n",
        "nest_asyncio.apply()\r\n",
        "asyncio.run(main_asyncio())\r\n",
        "duration_asyncio = time.time() - start_time\r\n",
        "print(f\"Time taken: {duration_asyncio}\")"
      ],
      "execution_count": null,
      "outputs": []
    },
    {
      "cell_type": "code",
      "metadata": {
        "colab": {
          "base_uri": "https://localhost:8080/"
        },
        "id": "VBLEbRM3ceIw",
        "outputId": "5205882f-b7a4-43ef-c344-baaf8865732d"
      },
      "source": [
        "#Compare\r\n",
        "print(f\"Synchronous: {duration_synch}\")\r\n",
        "print(f\"Multithreading: {duration_multithreading}\")\r\n",
        "print(f\"Asyncio: {duration_asyncio}\")"
      ],
      "execution_count": 52,
      "outputs": [
        {
          "output_type": "stream",
          "text": [
            "Synchronous: 6.709909915924072\n",
            "Multithreading: 1.7608542442321777\n",
            "Asyncio: 1.3208708763122559\n"
          ],
          "name": "stdout"
        }
      ]
    }
  ]
}