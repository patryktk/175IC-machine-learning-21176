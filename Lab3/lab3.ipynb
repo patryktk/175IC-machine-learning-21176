{
  "nbformat": 4,
  "nbformat_minor": 0,
  "metadata": {
    "colab": {
      "name": "lab3.ipynb",
      "provenance": [],
      "authorship_tag": "ABX9TyNuRvmGRZxRacJlY6tP6F0b",
      "include_colab_link": true
    },
    "kernelspec": {
      "name": "python3",
      "display_name": "Python 3"
    }
  },
  "cells": [
    {
      "cell_type": "markdown",
      "metadata": {
        "id": "view-in-github",
        "colab_type": "text"
      },
      "source": [
        "<a href=\"https://colab.research.google.com/github/patryktk/175IC-machine-learning-21176/blob/main/Lab3/lab3.ipynb\" target=\"_parent\"><img src=\"https://colab.research.google.com/assets/colab-badge.svg\" alt=\"Open In Colab\"/></a>"
      ]
    },
    {
      "cell_type": "code",
      "metadata": {
        "id": "3pXoKz3eV16z",
        "outputId": "9bc6966d-9c01-46af-d4a2-1dbdf71c6afc",
        "colab": {
          "base_uri": "https://localhost:8080/"
        }
      },
      "source": [
        "import numpy as np\n",
        "#Python basic\n",
        "#1.Mnoży wszystkie elementy w liście\n",
        "my_list = [2,3,5,6]\n",
        "my_list * 2\n",
        "#2.Wypisuje elementy od 0 do 2, wykluczając drugi\n",
        "my_list[0:2]\n",
        "#3.Dodaje element do listy\n",
        "my_list.append(5)\n",
        "#4.Wybieranie drugiego elementu z listy (liczymy od 0)\n",
        "my_list[1]\n",
        "#5.Odwraca kolejność w naszej liście\n",
        "my_list.reverse()\n",
        "my_list"
      ],
      "execution_count": 37,
      "outputs": [
        {
          "output_type": "execute_result",
          "data": {
            "text/plain": [
              "[2, 3]"
            ]
          },
          "metadata": {
            "tags": []
          },
          "execution_count": 37
        }
      ]
    },
    {
      "cell_type": "code",
      "metadata": {
        "id": "cTZzsX7KbbZz",
        "outputId": "57dd1dfb-dba4-42dc-e4ed-5f58e17953e8",
        "colab": {
          "base_uri": "https://localhost:8080/"
        }
      },
      "source": [
        "import numpy as np\n",
        "#NumpyBasics\n",
        "#1.Podaje nam rodzaj danych w tablicy\n",
        "b = np.array([(1.5,2,3), (4,5,6)])\n",
        "b.dtype\n",
        "#2.Podaje rozmiar matrix'a\n",
        "a.size\n",
        "#3.Podaje nam wymiary matrix'a, ilośc kolumn i wierszy\n",
        "a.shape\n",
        "#4.Wylicza cos z matrix b\n",
        "np.cos(b)\n",
        "#5.Sprawdza równość\n",
        "np.array_equal(a,b)"
      ],
      "execution_count": 39,
      "outputs": [
        {
          "output_type": "execute_result",
          "data": {
            "text/plain": [
              "dtype('float64')"
            ]
          },
          "metadata": {
            "tags": []
          },
          "execution_count": 39
        }
      ]
    },
    {
      "cell_type": "code",
      "metadata": {
        "id": "e8q9WgxMbj5f",
        "outputId": "e8e2ace8-c647-4920-8f2b-77fb59f928f5",
        "colab": {
          "base_uri": "https://localhost:8080/"
        }
      },
      "source": [
        "from scipy import linalg, sparse\n",
        "#SciPy-Linear Algebra\n",
        "#1.Dokonuje inwersji\n",
        "b = np.matrix([(1.5,2,3), (4,5,6)])\n",
        "b.I\n",
        "#2.Matrix rank\n",
        "np.linalg.matrix_rank(b)\n",
        "#3.Dodawnie macierzy\n",
        "a = np.matrix([(2,3,4),(2,3,4)])\n",
        "np.add(a,b)\n",
        "#4.Równanie kroneckera\n",
        "np.kron(a,b)\n",
        "#5. Koniugacja macierzy\n",
        "a.H"
      ],
      "execution_count": 51,
      "outputs": [
        {
          "output_type": "execute_result",
          "data": {
            "text/plain": [
              "matrix([[2, 2],\n",
              "        [3, 3],\n",
              "        [4, 4]])"
            ]
          },
          "metadata": {
            "tags": []
          },
          "execution_count": 51
        }
      ]
    },
    {
      "cell_type": "code",
      "metadata": {
        "id": "h-OqviqbbnaR",
        "outputId": "9bc4e4b7-425b-4570-8cf3-235bf42fff0e",
        "colab": {
          "base_uri": "https://localhost:8080/",
          "height": 421
        }
      },
      "source": [
        "#Pandas Basics\n",
        "#1.Przypisuje rangi wartością\n",
        "import pandas as pd\n",
        "data = {\n",
        "'size':['S', 'M', 'L', 'XL', 'XXL', 'M',np.nan, 'M', 'XXL', 'XL', 'S', np.nan],\n",
        "'color':['green', 'red', 'blue', 'white',np.nan, 'dark', 'yellow', 'grey', 'white', 'dark', 'yellow', np.nan],\n",
        "'gender':['female','male', 'male', 'male',np.nan, 'female', 'female', 'male', 'female', 'male', 'female', np.nan],\n",
        "'price':[110.0, 120.0, np.nan, 140.0,np.nan, 150.0, 160.0, 170.0, 180.0, 190.0, 200.0, np.nan],\n",
        "'weight':[250, 275, 300, 325, 350,np.nan, 375, 400, 425, 450, 475, np.nan],\n",
        "'bought':['yes', 'no', 'no','yes',np.nan,'yes','yes','no','no','yes','no', np.nan]\n",
        "}\n",
        "df = pd.DataFrame(data=data)\n",
        "df.rank()\n",
        "#2.index\n",
        "df.index\n",
        "#3.Sortuje wartości o price\n",
        "df.sort_values(by=\"price\")\n",
        "#4. Zamienia wartości NaN w price na średnią wartość\n",
        "df['price'].fillna(df['price'].mean(),inplace=True)\n",
        "#5.Zamienia NaN w size na unisex\n",
        "df['size'].fillna('unisex',inplace=True)"
      ],
      "execution_count": 61,
      "outputs": [
        {
          "output_type": "execute_result",
          "data": {
            "text/html": [
              "<div>\n",
              "<style scoped>\n",
              "    .dataframe tbody tr th:only-of-type {\n",
              "        vertical-align: middle;\n",
              "    }\n",
              "\n",
              "    .dataframe tbody tr th {\n",
              "        vertical-align: top;\n",
              "    }\n",
              "\n",
              "    .dataframe thead th {\n",
              "        text-align: right;\n",
              "    }\n",
              "</style>\n",
              "<table border=\"1\" class=\"dataframe\">\n",
              "  <thead>\n",
              "    <tr style=\"text-align: right;\">\n",
              "      <th></th>\n",
              "      <th>size</th>\n",
              "      <th>color</th>\n",
              "      <th>gender</th>\n",
              "      <th>price</th>\n",
              "      <th>weight</th>\n",
              "      <th>bought</th>\n",
              "    </tr>\n",
              "  </thead>\n",
              "  <tbody>\n",
              "    <tr>\n",
              "      <th>0</th>\n",
              "      <td>S</td>\n",
              "      <td>green</td>\n",
              "      <td>female</td>\n",
              "      <td>110.0</td>\n",
              "      <td>250.0</td>\n",
              "      <td>yes</td>\n",
              "    </tr>\n",
              "    <tr>\n",
              "      <th>1</th>\n",
              "      <td>M</td>\n",
              "      <td>red</td>\n",
              "      <td>male</td>\n",
              "      <td>120.0</td>\n",
              "      <td>275.0</td>\n",
              "      <td>no</td>\n",
              "    </tr>\n",
              "    <tr>\n",
              "      <th>3</th>\n",
              "      <td>XL</td>\n",
              "      <td>white</td>\n",
              "      <td>male</td>\n",
              "      <td>140.0</td>\n",
              "      <td>325.0</td>\n",
              "      <td>yes</td>\n",
              "    </tr>\n",
              "    <tr>\n",
              "      <th>5</th>\n",
              "      <td>M</td>\n",
              "      <td>dark</td>\n",
              "      <td>female</td>\n",
              "      <td>150.0</td>\n",
              "      <td>NaN</td>\n",
              "      <td>yes</td>\n",
              "    </tr>\n",
              "    <tr>\n",
              "      <th>6</th>\n",
              "      <td>NaN</td>\n",
              "      <td>yellow</td>\n",
              "      <td>female</td>\n",
              "      <td>160.0</td>\n",
              "      <td>375.0</td>\n",
              "      <td>yes</td>\n",
              "    </tr>\n",
              "    <tr>\n",
              "      <th>7</th>\n",
              "      <td>M</td>\n",
              "      <td>grey</td>\n",
              "      <td>male</td>\n",
              "      <td>170.0</td>\n",
              "      <td>400.0</td>\n",
              "      <td>no</td>\n",
              "    </tr>\n",
              "    <tr>\n",
              "      <th>8</th>\n",
              "      <td>XXL</td>\n",
              "      <td>white</td>\n",
              "      <td>female</td>\n",
              "      <td>180.0</td>\n",
              "      <td>425.0</td>\n",
              "      <td>no</td>\n",
              "    </tr>\n",
              "    <tr>\n",
              "      <th>9</th>\n",
              "      <td>XL</td>\n",
              "      <td>dark</td>\n",
              "      <td>male</td>\n",
              "      <td>190.0</td>\n",
              "      <td>450.0</td>\n",
              "      <td>yes</td>\n",
              "    </tr>\n",
              "    <tr>\n",
              "      <th>10</th>\n",
              "      <td>S</td>\n",
              "      <td>yellow</td>\n",
              "      <td>female</td>\n",
              "      <td>200.0</td>\n",
              "      <td>475.0</td>\n",
              "      <td>no</td>\n",
              "    </tr>\n",
              "    <tr>\n",
              "      <th>2</th>\n",
              "      <td>L</td>\n",
              "      <td>blue</td>\n",
              "      <td>male</td>\n",
              "      <td>NaN</td>\n",
              "      <td>300.0</td>\n",
              "      <td>no</td>\n",
              "    </tr>\n",
              "    <tr>\n",
              "      <th>4</th>\n",
              "      <td>XXL</td>\n",
              "      <td>NaN</td>\n",
              "      <td>NaN</td>\n",
              "      <td>NaN</td>\n",
              "      <td>350.0</td>\n",
              "      <td>NaN</td>\n",
              "    </tr>\n",
              "    <tr>\n",
              "      <th>11</th>\n",
              "      <td>NaN</td>\n",
              "      <td>NaN</td>\n",
              "      <td>NaN</td>\n",
              "      <td>NaN</td>\n",
              "      <td>NaN</td>\n",
              "      <td>NaN</td>\n",
              "    </tr>\n",
              "  </tbody>\n",
              "</table>\n",
              "</div>"
            ],
            "text/plain": [
              "   size   color  gender  price  weight bought\n",
              "0     S   green  female  110.0   250.0    yes\n",
              "1     M     red    male  120.0   275.0     no\n",
              "3    XL   white    male  140.0   325.0    yes\n",
              "5     M    dark  female  150.0     NaN    yes\n",
              "6   NaN  yellow  female  160.0   375.0    yes\n",
              "7     M    grey    male  170.0   400.0     no\n",
              "8   XXL   white  female  180.0   425.0     no\n",
              "9    XL    dark    male  190.0   450.0    yes\n",
              "10    S  yellow  female  200.0   475.0     no\n",
              "2     L    blue    male    NaN   300.0     no\n",
              "4   XXL     NaN     NaN    NaN   350.0    NaN\n",
              "11  NaN     NaN     NaN    NaN     NaN    NaN"
            ]
          },
          "metadata": {
            "tags": []
          },
          "execution_count": 61
        }
      ]
    },
    {
      "cell_type": "code",
      "metadata": {
        "id": "P4hFQTX1bqFc",
        "outputId": "f0bfe0c8-5f6e-4496-a035-faf46a13593d",
        "colab": {
          "base_uri": "https://localhost:8080/"
        }
      },
      "source": [
        "#Scikit-Learn\n",
        "import numpy as np\n",
        "from sklearn.preprocessing import PolynomialFeatures\n",
        "from sklearn.model_selection import train_test_split\n",
        "from sklearn.preprocessing import Normalizer\n",
        "from sklearn.cluster import KMeans\n",
        "from sklearn.preprocessing import LabelEncoder\n",
        "#1.Podział na dane testujące i uczące\n",
        "X = np.random.random((10,5))\n",
        "y = np.array(['M','M','F','F','M','F','M','M','F','F'])\n",
        "X_train, X_test, y_train, y_test = train_test_split(X,y)\n",
        "print(X_train, y_train)\n",
        "#2.Normalizacja\n",
        "scaler = Normalizer().fit(X_train)\n",
        "normalized_X = scaler.transform(X_train)\n",
        "normalized_X_test = scaler.transform(X_test)\n",
        "print(normalized_X, normalized_X_test)\n",
        "#3.Funkcja k_means\n",
        "k_means = KMeans(n_clusters=3, random_state=0)\n",
        "k_means.fit(X_train)\n",
        "#4.LabelEncoder\n",
        "enc = LabelEncoder()\n",
        "y = enc.fit_transform(y)\n",
        "#5.Wielomiany\n",
        "poly = PolynomialFeatures(5)\n",
        "poly.fit_transform(X) "
      ],
      "execution_count": 80,
      "outputs": [
        {
          "output_type": "stream",
          "text": [
            "[[0.36237754 0.91668494 0.725531   0.46286091 0.46406152]\n",
            " [0.32380728 0.90994208 0.98428591 0.32082138 0.81941881]\n",
            " [0.22322663 0.31945321 0.19176673 0.40583774 0.38780288]\n",
            " [0.645233   0.59949285 0.67762272 0.26497719 0.07899498]\n",
            " [0.25832517 0.31549753 0.58753619 0.31656078 0.62499267]\n",
            " [0.39152692 0.20934275 0.17299656 0.12492753 0.76415207]\n",
            " [0.48445456 0.24080767 0.32114773 0.89081103 0.22859977]] ['F' 'F' 'F' 'M' 'F' 'F' 'M']\n",
            "[[0.26100623 0.66025194 0.52257131 0.33338042 0.33424518]\n",
            " [0.19794314 0.5562469  0.60169323 0.19611787 0.5009101 ]\n",
            " [0.31451281 0.45009024 0.27018771 0.57180082 0.54639079]\n",
            " [0.56345394 0.52351106 0.59173848 0.23139307 0.06898289]\n",
            " [0.25802913 0.31513597 0.58686288 0.316198   0.62427644]\n",
            " [0.43064456 0.23025828 0.19028073 0.1374091  0.84049888]\n",
            " [0.43476868 0.21611033 0.28821068 0.79944904 0.20515448]] [[0.05076841 0.44681078 0.6175916  0.49412947 0.41496914]\n",
            " [0.62297259 0.51112178 0.5267956  0.2304206  0.14160656]\n",
            " [0.18509842 0.65090981 0.49559149 0.54383362 0.02624997]]\n"
          ],
          "name": "stdout"
        },
        {
          "output_type": "execute_result",
          "data": {
            "text/plain": [
              "array([[1.00000000e+00, 6.45232997e-01, 5.99492845e-01, ...,\n",
              "        3.46111073e-05, 1.03182610e-05, 3.07607928e-06],\n",
              "       [1.00000000e+00, 4.84454559e-01, 2.40807672e-01, ...,\n",
              "        9.47978660e-03, 2.43270121e-03, 6.24279367e-04],\n",
              "       [1.00000000e+00, 2.58325169e-01, 3.15497531e-01, ...,\n",
              "        2.44646491e-02, 4.83010765e-02, 9.53618415e-02],\n",
              "       ...,\n",
              "       [1.00000000e+00, 2.47794759e-01, 8.71385304e-01, ...,\n",
              "        2.30020129e-05, 1.11027019e-06, 5.35909579e-08],\n",
              "       [1.00000000e+00, 3.91526917e-01, 2.09342748e-01, ...,\n",
              "        6.96395068e-03, 4.25968346e-02, 2.60554734e-01],\n",
              "       [1.00000000e+00, 2.23226627e-01, 3.19453207e-01, ...,\n",
              "        9.60589787e-03, 9.17902527e-03, 8.77112229e-03]])"
            ]
          },
          "metadata": {
            "tags": []
          },
          "execution_count": 80
        }
      ]
    },
    {
      "cell_type": "code",
      "metadata": {
        "id": "J5TtilnCbt7I",
        "outputId": "2769824a-eb60-44b7-fa5c-68c240a6c2b3",
        "colab": {
          "base_uri": "https://localhost:8080/",
          "height": 395
        }
      },
      "source": [
        "#Matplotlib\n",
        "import numpy as np\n",
        "import matplotlib.pyplot as plt\n",
        "x = np.linspace(0, 10, 100)\n",
        "y = np.cos(x)\n",
        "z = np.sin(x)\n",
        "#1. Rysowanie wykresu\n",
        "plt.plot(y)\n",
        "plt.show()\n",
        "plt.close()\n",
        "#2.Rysyuje linie od x do y\n",
        "fig, ax = plt.subplots()\n",
        "lines = ax.plot(x,y)\n",
        "#3.Rysuje nie połączone z sobą punkty\n",
        "ax.scatter(x,y) \n",
        "#4.Dodaje tytuł\n",
        "plt.title(r'$sigma_i=15$', fontsize=20)\n",
        "plt.close()\n",
        "#5.Rysowanie histogramu\n",
        "fig = plt.figure()\n",
        "fig.add_axes()\n",
        "ax = fig.add_subplot(212)\n",
        "ax.hist(y)\n",
        "plt.show()\n",
        "plt.close()"
      ],
      "execution_count": 91,
      "outputs": [
        {
          "output_type": "display_data",
          "data": {
            "image/png": "[encoded data removed]",
            "text/plain": [
              "<Figure size 432x288 with 1 Axes>"
            ]
          },
          "metadata": {
            "tags": [],
            "needs_background": "light"
          }
        },
        {
          "output_type": "display_data",
          "data": {
            "image/png": "[encoded data removed]",
            "text/plain": [
              "<Figure size 432x288 with 1 Axes>"
            ]
          },
          "metadata": {
            "tags": [],
            "needs_background": "light"
          }
        }
      ]
    },
    {
      "cell_type": "code",
      "metadata": {
        "id": "q3gsJOFmbv86",
        "outputId": "14e25fa1-b714-47e0-c6e7-7a431d9a057d",
        "colab": {
          "base_uri": "https://localhost:8080/",
          "height": 692
        }
      },
      "source": [
        "#Seaborn\n",
        "import matplotlib.pyplot as plt\n",
        "import seaborn as sns\n",
        "#1.Ładownie danych\n",
        "tips = sns.load_dataset(\"tips\")\n",
        "tips\n",
        "#2.Rysowanie wykresu\n",
        "sns.set_style(\"whitegrid\")\n",
        "g = sns.lmplot(x=\"tip\",\n",
        "y=\"total_bill\",\n",
        "data=tips,\n",
        "aspect=2)\n",
        "g = (g.set_axis_labels(\"Tip\",\"Total bill(USD)\").\n",
        "set(xlim=(0,10),ylim=(0,100)))\n",
        "plt.title(\"title\")\n",
        "plt.show(g)\n",
        "#3.Boxplot\n",
        "titanic = sns.load_dataset(\"titanic\")\n",
        "iris = sns.load_dataset(\"iris\")\n",
        "sns.boxplot(x=\"alive\",\n",
        "y=\"age\",\n",
        "hue=\"adult_male\",\n",
        "data=titanic)\n",
        "#4. Boxplot z opisem danych\n",
        "sns.boxplot(data=iris,orient=\"h\")\n",
        "#5.Violin plot\n",
        "sns.violinplot(x=\"age\",\n",
        " y=\"sex\",\n",
        " hue=\"survived\",\n",
        " data=titanic)"
      ],
      "execution_count": 104,
      "outputs": [
        {
          "output_type": "display_data",
          "data": {
            "image/png": "[encoded data removed]",
            "text/plain": [
              "<Figure size 720x360 with 1 Axes>"
            ]
          },
          "metadata": {
            "tags": []
          }
        },
        {
          "output_type": "execute_result",
          "data": {
            "text/plain": [
              "<matplotlib.axes._subplots.AxesSubplot at 0x7f41bf45ce48>"
            ]
          },
          "metadata": {
            "tags": []
          },
          "execution_count": 104
        },
        {
          "output_type": "display_data",
          "data": {
            "image/png": "[encoded data removed]",
            "text/plain": [
              "<Figure size 432x288 with 1 Axes>"
            ]
          },
          "metadata": {
            "tags": []
          }
        }
      ]
    },
    {
      "cell_type": "code",
      "metadata": {
        "id": "Wf5Ei56DbysC"
      },
      "source": [
        "#Bokeh\n",
        "from bokeh.plotting import figure\n",
        "from bokeh.io import output_file, show\n",
        "#1.Przygotwanie danych\n",
        "x = [1, 2, 3, 4, 5]\n",
        "y = [6, 7, 2, 4, 5]\n",
        "#2.Plik wyjściowy\n",
        "output_file(\"lines.html\")\n",
        "#3.Nowy plot\n",
        "p = figure(tools=\"pan,box_zoom,reset,save\", y_axis_type=\"log\", y_range=[0.001, 10**11], title=\"log axis example\", x_axis_label='sections', y_axis_label='particles')\n",
        "#4.Renderowanie danych oraz wizualny efekt\n",
        "p.line(x, x, legend_label=\"y=x\")\n",
        "p.circle(x, x, legend_label=\"y=x\", fill_color=\"white\", size=8)\n",
        "#5.Pokaz rezultatu\n",
        "show(p)"
      ],
      "execution_count": 111,
      "outputs": []
    }
  ]
}