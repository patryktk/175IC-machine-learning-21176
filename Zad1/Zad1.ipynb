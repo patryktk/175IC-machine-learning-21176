{
  "nbformat": 4,
  "nbformat_minor": 0,
  "metadata": {
    "colab": {
      "name": "Untitled4.ipynb",
      "provenance": [],
      "authorship_tag": "ABX9TyNduZ8/1HHlrhkD0DOAt8ch",
      "include_colab_link": true
    },
    "kernelspec": {
      "name": "python3",
      "display_name": "Python 3"
    }
  },
  "cells": [
    {
      "cell_type": "markdown",
      "metadata": {
        "id": "view-in-github",
        "colab_type": "text"
      },
      "source": [
        "<a href=\"https://colab.research.google.com/github/patryktk/wstep-do-ml-21176-175ic/blob/main/Zad1/Zad1.ipynb\" target=\"_parent\"><img src=\"https://colab.research.google.com/assets/colab-badge.svg\" alt=\"Open In Colab\"/></a>"
      ]
    },
    {
      "cell_type": "code",
      "metadata": {
        "id": "0IcE8WFwT6Tf",
        "outputId": "3bf03a77-94d8-4368-fd99-1fd8221161ad",
        "colab": {
          "base_uri": "https://localhost:8080/"
        }
      },
      "source": [
        "import sklearn;\n",
        "import numpy as np;\n",
        "import pandas as pd;\n",
        "from sklearn.preprocessing import LabelEncoder;\n",
        "from sklearn.preprocessing import StandardScaler;\n",
        "\n",
        "data = {\n",
        "    'size': ['L', 'M', 'S', 'XS','L','XXL','S','XS','L','M'],\n",
        "    'color': ['green', 'red','black','white','black','white','purple','yellow','green','brown'],\n",
        "    'gender': ['female', 'female','male','male','male','female','male','female','male','female'],\n",
        "    'price': [149.0, 79.0,85.0,68.0,39.0,52.0,41.0,0.85,321.2,155.5],\n",
        "    'weight': [380, 410, 420, 413,252,423,842,456,486,468],\n",
        "    'bought': ['no', 'yes','yes','no','no','yes','yes','no','no','yes']\n",
        "}\n",
        "\n",
        "clothes = pd.DataFrame(data=data);\n",
        "# print(clothes);\n",
        "clothes_cop = clothes.copy();\n",
        "\n",
        "for col in ['size', 'color', 'gender', 'bought']:\n",
        "    clothes_cop[col] = clothes_cop[col].astype('category');\n",
        "for col in ['weight']:\n",
        "    clothes_cop[col] = clothes_cop[col].astype('float64');\n",
        "\n",
        "# clothes_cop.info();\n",
        "\n",
        "clo = clothes_cop.describe(include=['category']).T;\n",
        "# print(clo);\n",
        "\n",
        "le = LabelEncoder()\n",
        "le.fit_transform(clothes_cop['bought'])\n",
        "clothes_cop['bought'] = le.fit_transform(clothes_cop['bought'])\n",
        "clothes_cop\n",
        "\n",
        "pd.get_dummies(data=clothes_cop, drop_first=True)\n",
        "\n",
        "scaler = StandardScaler();\n",
        "clothes_cop[['price','weight']] = scaler.fit_transform(clothes_cop[['price','weight']])\n",
        "\n",
        "clothes.info()\n",
        "clothes_cop.info()"
      ],
      "execution_count": 15,
      "outputs": [
        {
          "output_type": "stream",
          "text": [
            "<class 'pandas.core.frame.DataFrame'>\n",
            "RangeIndex: 10 entries, 0 to 9\n",
            "Data columns (total 6 columns):\n",
            " #   Column  Non-Null Count  Dtype  \n",
            "---  ------  --------------  -----  \n",
            " 0   size    10 non-null     object \n",
            " 1   color   10 non-null     object \n",
            " 2   gender  10 non-null     object \n",
            " 3   price   10 non-null     float64\n",
            " 4   weight  10 non-null     int64  \n",
            " 5   bought  10 non-null     object \n",
            "dtypes: float64(1), int64(1), object(4)\n",
            "memory usage: 608.0+ bytes\n",
            "<class 'pandas.core.frame.DataFrame'>\n",
            "RangeIndex: 10 entries, 0 to 9\n",
            "Data columns (total 6 columns):\n",
            " #   Column  Non-Null Count  Dtype   \n",
            "---  ------  --------------  -----   \n",
            " 0   size    10 non-null     category\n",
            " 1   color   10 non-null     category\n",
            " 2   gender  10 non-null     category\n",
            " 3   price   10 non-null     float64 \n",
            " 4   weight  10 non-null     float64 \n",
            " 5   bought  10 non-null     int64   \n",
            "dtypes: category(3), float64(2), int64(1)\n",
            "memory usage: 1.0 KB\n"
          ],
          "name": "stdout"
        }
      ]
    }
  ]
}