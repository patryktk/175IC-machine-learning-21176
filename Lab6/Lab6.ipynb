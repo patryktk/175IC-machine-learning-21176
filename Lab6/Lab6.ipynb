{
  "nbformat": 4,
  "nbformat_minor": 0,
  "metadata": {
    "colab": {
      "name": "Lab6.ipynb",
      "provenance": [],
      "authorship_tag": "ABX9TyPd2gzZCN30yZUD1qzTq3RV",
      "include_colab_link": true
    },
    "kernelspec": {
      "name": "python3",
      "display_name": "Python 3"
    }
  },
  "cells": [
    {
      "cell_type": "markdown",
      "metadata": {
        "id": "view-in-github",
        "colab_type": "text"
      },
      "source": [
        "<a href=\"https://colab.research.google.com/github/patryktk/175IC-machine-learning-21176/blob/main/Lab6/Lab6.ipynb\" target=\"_parent\"><img src=\"https://colab.research.google.com/assets/colab-badge.svg\" alt=\"Open In Colab\"/></a>"
      ]
    },
    {
      "cell_type": "code",
      "metadata": {
        "id": "AhjFc73tAvhb"
      },
      "source": [
        "#Otwarcie pliku\n",
        "file = open('dog_breeds.txt')\n",
        "#Pokazuje typ pliku\n",
        "type(file)\n",
        "\n",
        "#Otwieramy plik w trybie binarnym\n",
        "file = open('dog_breeds.txt', 'rb', buffering=0)\n",
        "type(file)"
      ],
      "execution_count": null,
      "outputs": []
    },
    {
      "cell_type": "code",
      "metadata": {
        "id": "kTsLhl5rExX8"
      },
      "source": [
        "#Otwarcie pliku w trybie odczytu\n",
        "with open('dog_breeds.txt', 'r') as reader:\n",
        "  print(reader.readline(5))\n",
        "  print(reader.readline(5))\n",
        "  print(reader.readline(5))\n",
        "  print(reader.readline(5)) #czyta tylko 5 znaków"
      ],
      "execution_count": null,
      "outputs": []
    },
    {
      "cell_type": "code",
      "metadata": {
        "id": "k7yGivxaHI3u"
      },
      "source": [
        "with open('dog_breeds.txt', 'r') as reader:\n",
        "  print(reader.read()) #czyta całość pliku"
      ],
      "execution_count": null,
      "outputs": []
    },
    {
      "cell_type": "code",
      "metadata": {
        "id": "zQx8ijb_HQYo"
      },
      "source": [
        "f = open('dog_breeds.txt')\n",
        "f.readlines()  # Zwraca tekst do listy\n",
        "list(f) #drugi sposób na zwracanie listy"
      ],
      "execution_count": null,
      "outputs": []
    },
    {
      "cell_type": "code",
      "metadata": {
        "id": "FtbZB3yqIVkh"
      },
      "source": [
        "with open('dog_breeds.txt', 'r') as reader:\n",
        "  for line in reader:\n",
        "    print(line, end='')\n",
        "\n",
        "#czytanie całego obiektu, linia po linie, iteracja"
      ],
      "execution_count": null,
      "outputs": []
    },
    {
      "cell_type": "code",
      "metadata": {
        "id": "TCi9nE1tKkbr"
      },
      "source": [
        "with open('dog_breeds.txt', 'r') as reader:\n",
        "  dog_breeds = reader.readlines()\n",
        "\n",
        "#Otwarcie pliku w trybie zapisu\n",
        "with open('dog_breeds_reversed.txt', 'w') as writer:\n",
        "  #Zapisanie zawartości pliku dog_breeds w odwrotnej kolejności, w nowym pliku o nazwe \"dog_breeds_reversed\"\n",
        "  for breed in reversed(dog_breeds):\n",
        "    writer.write(breed)"
      ],
      "execution_count": 24,
      "outputs": []
    },
    {
      "cell_type": "code",
      "metadata": {
        "id": "THvp8JzpMY3J"
      },
      "source": [
        "with open('dog_breeds.txt', 'rb') as reader:\n",
        "  print(reader.readline())\n",
        "with open('jack_russell.png', 'rb') as byte_reader:\n",
        "  print(byte_reader.read(1)) \n",
        "  print(byte_reader.read(3)) \n",
        "  print(byte_reader.read(2))\n",
        "  print(byte_reader.read(1))\n",
        "  print(byte_reader.read(1))"
      ],
      "execution_count": null,
      "outputs": []
    },
    {
      "cell_type": "code",
      "metadata": {
        "id": "m8G4KJfBfVMR"
      },
      "source": [
        "import argparse\n",
        "import os\n",
        "\n",
        "def str2unix(input_str: str) -> str:\n",
        "  r_str = input_str.replace('\\r\\n', '\\n')\n",
        "  return r_str\n",
        "\n",
        "def dos2unix(source_file: str, dest_file: str):\n",
        " with open(source_file, 'r') as reader:\n",
        "      dos_content = reader.read()\n",
        "\n",
        "  unix_content = str2unix(dos_content)\n",
        "\n",
        "  with open(dest_file, 'w') as writer:\n",
        "      writer.write(unix_content) \n",
        "\n",
        "if __name__ == \"__main__\":\n",
        "  parser = argparse.ArgumentParser(\n",
        "      description=\"Script that converts a DOS like file to an Unix like file\",\n",
        "  )\n",
        "\n",
        "  parser.add_argument(\n",
        "      'source_file',\n",
        "      help='The location of the source '\n",
        "  )\n",
        "\n",
        "  parser.add_argument(\n",
        "      '--dest_file',\n",
        "      help='Location of dest file (default: source_file appended with `_unix`',\n",
        "      default=None\n",
        "  )\n",
        "\n",
        "    \n",
        "  args = parser.parse_args()\n",
        "\n",
        "  s_file = args.source_file\n",
        "  d_file = args.dest_file\n",
        "\n",
        "   \n",
        "  if d_file is None:\n",
        "      file_path, file_extension = os.path.splitext(s_file)\n",
        "      d_file = f'{file_path}_unix{file_extension}'\n",
        "\n",
        "  dos2unix(s_file, d_file)"
      ],
      "execution_count": 28,
      "outputs": []
    },
    {
      "cell_type": "code",
      "metadata": {
        "id": "IchpM6iWheYc"
      },
      "source": [
        "with open('dog_breeds.txt', 'a') as a_writer:\n",
        "  a_writer.write('\\nBeagle')\n",
        "  #Dodanie tekstu na końcu"
      ],
      "execution_count": 29,
      "outputs": []
    },
    {
      "cell_type": "code",
      "metadata": {
        "id": "JZJIGVcAhplC"
      },
      "source": [
        "d_path = 'dog_breeds.txt'\n",
        "d_r_path = 'dog_breeds_reversed.txt'\n",
        "with open(d_path, 'r') as reader, open(d_r_path, 'w') as writer:\n",
        "  dog_breeds = reader.readlines()\n",
        "  writer.writelines(reversed(dog_breeds))\n",
        "  #Możemy pracować z dwoma plikami jednocześnie"
      ],
      "execution_count": 30,
      "outputs": []
    },
    {
      "cell_type": "code",
      "metadata": {
        "id": "Ye5MEBU3h2Cl"
      },
      "source": [
        "class PngReader():\n",
        "  _expected_magic = b'\\x89PNG\\r\\n\\x1a\\n'\n",
        "\n",
        "  def __init__(self, file_path):\n",
        "    if not file_path.endswith('.png'):\n",
        "      raise NameError(\"File must be a '.png' extension\")\n",
        "    self.__path = file_path\n",
        "    self.__file_object = None\n",
        "\n",
        "  def __enter__(self):\n",
        "    self.__file_object = open(self.__path, 'rb')\n",
        "\n",
        "    magic = self.__file_object.read(8)\n",
        "    if magic != self._expected_magic:\n",
        "      raise TypeError(\"The File is not a properly formatted .png file!\")\n",
        "\n",
        "    return self\n",
        "\n",
        "  def __exit__(self, type, val, tb):\n",
        "      self.__file_object.close()\n",
        "\n",
        "  def __iter__(self):\n",
        "      return self\n",
        "\n",
        "  def __next__(self):\n",
        "    initial_data = self.__file_object.read(4)\n",
        "\n",
        "        \n",
        "    if self.__file_object is None or initial_data == b'':\n",
        "      raise StopIteration\n",
        "    else:\n",
        "        chunk_len = int.from_bytes(initial_data, byteorder='big')\n",
        "        chunk_type = self.__file_object.read(4)\n",
        "        chunk_data = self.__file_object.read(chunk_len)\n",
        "        chunk_crc = self.__file_object.read(4)\n",
        "        return chunk_len, chunk_type, chunk_data, chunk_crc\n",
        "\n",
        "with PngReader('jack_russell.png') as reader:\n",
        "  for l, t, d, c in reader:\n",
        "    print(f\"{l:05}, {t}, {c}\")"
      ],
      "execution_count": null,
      "outputs": []
    }
  ]
}