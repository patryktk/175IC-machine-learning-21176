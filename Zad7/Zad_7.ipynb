{
  "nbformat": 4,
  "nbformat_minor": 0,
  "metadata": {
    "colab": {
      "name": "Zad.7",
      "provenance": [],
      "authorship_tag": "ABX9TyNPXZrgfEy1fp7Q7DvK4Z+m",
      "include_colab_link": true
    },
    "kernelspec": {
      "name": "python3",
      "display_name": "Python 3"
    }
  },
  "cells": [
    {
      "cell_type": "markdown",
      "metadata": {
        "id": "view-in-github",
        "colab_type": "text"
      },
      "source": [
        "<a href=\"https://colab.research.google.com/github/patryktk/175IC-machine-learning-21176/blob/main/Zad7/Zad_7.ipynb\" target=\"_parent\"><img src=\"https://colab.research.google.com/assets/colab-badge.svg\" alt=\"Open In Colab\"/></a>"
      ]
    },
    {
      "cell_type": "code",
      "metadata": {
        "id": "0g24yZPmeeoV"
      },
      "source": [
        "import numpy as np\r\n",
        "import pandas as pd\r\n",
        "import plotly.express as px\r\n",
        "from sklearn.datasets import make_blobs\r\n",
        "from sklearn.cluster import DBSCAN\r\n",
        "from sklearn.cluster import KMeans\r\n",
        "\r\n",
        "\r\n",
        "\r\n",
        "data, _ = make_blobs(n_samples=1000, centers=4, random_state=29,cluster_std=1.5)\r\n",
        "df = pd.DataFrame(data, columns=['x1','x2'])\r\n",
        "px.scatter(df, 'x1','x2')"
      ],
      "execution_count": null,
      "outputs": []
    },
    {
      "cell_type": "code",
      "metadata": {
        "id": "6lswcQ50tuiH"
      },
      "source": [
        "cluster = DBSCAN(eps=1.1, min_samples=6)\r\n",
        "cluster.fit(data)\r\n",
        "\r\n",
        "df['cluster'] = cluster.labels_\r\n",
        "px.scatter(df,'x1','x2','cluster',template='plotly_dark', color_continuous_midpoint=0)"
      ],
      "execution_count": null,
      "outputs": []
    },
    {
      "cell_type": "code",
      "metadata": {
        "id": "plzjTNu0nam9"
      },
      "source": [
        "kmeans = KMeans(n_clusters=4)\r\n",
        "kmeans.fit(data)\r\n",
        "\r\n",
        "df['kmeans'] = kmeans.labels_\r\n",
        "px.scatter(df,'x1','x2','kmeans',template='plotly_dark', color_continuous_midpoint=0)"
      ],
      "execution_count": null,
      "outputs": []
    },
    {
      "cell_type": "code",
      "metadata": {
        "colab": {
          "base_uri": "https://localhost:8080/"
        },
        "id": "gIwx2xQ0pDas",
        "outputId": "88b28f3f-5650-4868-ddb1-0dbf4a044940"
      },
      "source": [
        "pred = kmeans.fit_predict(df)\r\n",
        "result = pd.DataFrame([df.index,pred]).T\r\n",
        "print(f'KMeans')\r\n",
        "print(result[1].value_counts())\r\n",
        "print(f'\\n DBSCAN')\r\n",
        "print(df['cluster'].value_counts())"
      ],
      "execution_count": 75,
      "outputs": [
        {
          "output_type": "stream",
          "text": [
            "KMeans\n",
            "3    252\n",
            "2    250\n",
            "0    250\n",
            "1    248\n",
            "Name: 1, dtype: int64\n",
            "\n",
            " DBSCAN\n",
            " 2    247\n",
            " 1    245\n",
            " 3    243\n",
            " 0    239\n",
            "-1     26\n",
            "Name: cluster, dtype: int64\n"
          ],
          "name": "stdout"
        }
      ]
    }
  ]
}