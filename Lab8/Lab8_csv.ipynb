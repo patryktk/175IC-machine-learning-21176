{
  "nbformat": 4,
  "nbformat_minor": 0,
  "metadata": {
    "colab": {
      "name": "Lab8_csv.ipynb",
      "provenance": [],
      "authorship_tag": "ABX9TyNYzoFCQfbf48TbJnn+JP6E",
      "include_colab_link": true
    },
    "kernelspec": {
      "name": "python3",
      "display_name": "Python 3"
    }
  },
  "cells": [
    {
      "cell_type": "markdown",
      "metadata": {
        "id": "view-in-github",
        "colab_type": "text"
      },
      "source": [
        "<a href=\"https://colab.research.google.com/github/patryktk/175IC-machine-learning-21176/blob/main/Lab8/Lab8_csv.ipynb\" target=\"_parent\"><img src=\"https://colab.research.google.com/assets/colab-badge.svg\" alt=\"Open In Colab\"/></a>"
      ]
    },
    {
      "cell_type": "code",
      "metadata": {
        "id": "XfkoIvT08PzP"
      },
      "source": [
        "import csv\r\n",
        "import pandas as pd"
      ],
      "execution_count": 1,
      "outputs": []
    },
    {
      "cell_type": "code",
      "metadata": {
        "colab": {
          "base_uri": "https://localhost:8080/"
        },
        "id": "UHe0p4G-8Xdp",
        "outputId": "2565508a-caf8-4ca1-df28-21d678367e82"
      },
      "source": [
        "#czytanie plików CSV\r\n",
        "with open('employee_birthday.txt') as csv_file:\r\n",
        "    csv_reader = csv.reader(csv_file, delimiter=',')\r\n",
        "    line_count = 0\r\n",
        "    for row in csv_reader:\r\n",
        "        if line_count == 0:\r\n",
        "            print(f'Column names are {\", \".join(row)}')\r\n",
        "            line_count += 1\r\n",
        "        else:\r\n",
        "            print(f'\\t{row[0]} works in the {row[1]} department, and was born in {row[2]}.')\r\n",
        "            line_count += 1\r\n",
        "    print(f'Processed {line_count} lines.')"
      ],
      "execution_count": 3,
      "outputs": [
        {
          "output_type": "stream",
          "text": [
            "Column names are name, department, birthday month\n",
            "\tJohn Smith works in the Accounting department, and was born in November.\n",
            "\tErica Meyers works in the IT department, and was born in March.\n",
            "Processed 3 lines.\n"
          ],
          "name": "stdout"
        }
      ]
    },
    {
      "cell_type": "code",
      "metadata": {
        "colab": {
          "base_uri": "https://localhost:8080/"
        },
        "id": "rGhfOLpd9F_g",
        "outputId": "8a6cca8b-852e-41fe-c2b5-38c1f139be95"
      },
      "source": [
        "#pisanie plików csv\r\n",
        "with open('employee_file.csv', mode='w') as employee_file:\r\n",
        "    employee_writer = csv.writer(employee_file, delimiter=',', quotechar='\"', quoting=csv.QUOTE_MINIMAL)\r\n",
        "\r\n",
        "    employee_writer.writerow(['John Smith', 'Accounting', 'November'])\r\n",
        "    employee_writer.writerow(['Erica Meyers', 'IT', 'March'])\r\n",
        "\r\n",
        "with open('employee_file.csv') as csv_file:\r\n",
        "    csv_reader = csv.reader(csv_file, delimiter=',')\r\n",
        "    line_count = 0\r\n",
        "    for row in csv_reader:\r\n",
        "        if line_count == 0:\r\n",
        "            print(f'Column names are {\", \".join(row)}')\r\n",
        "            line_count += 1\r\n",
        "        else:\r\n",
        "            print(f'\\t{row[0]} works in the {row[1]} department, and was born in {row[2]}.')\r\n",
        "            line_count += 1\r\n",
        "    print(f'Processed {line_count} lines.')"
      ],
      "execution_count": 5,
      "outputs": [
        {
          "output_type": "stream",
          "text": [
            "Column names are John Smith, Accounting, November\n",
            "\tErica Meyers works in the IT department, and was born in March.\n",
            "Processed 2 lines.\n"
          ],
          "name": "stdout"
        }
      ]
    },
    {
      "cell_type": "code",
      "metadata": {
        "id": "1NCo6q_f-EKs"
      },
      "source": [
        "#pisanie plików csv\r\n",
        "with open('employee_file2.csv', mode='w') as csv_file:\r\n",
        "    fieldnames = ['emp_name', 'dept', 'birth_month']\r\n",
        "    writer = csv.DictWriter(csv_file, fieldnames=fieldnames)\r\n",
        "\r\n",
        "    writer.writeheader()\r\n",
        "    writer.writerow({'emp_name': 'John Smith', 'dept': 'Accounting', 'birth_month': 'November'})\r\n",
        "    writer.writerow({'emp_name': 'Erica Meyers', 'dept': 'IT', 'birth_month': 'March'})"
      ],
      "execution_count": 6,
      "outputs": []
    },
    {
      "cell_type": "code",
      "metadata": {
        "id": "prql0OTs-oBX"
      },
      "source": [
        "with open('hrdata.csv', mode='w') as csv_file:\r\n",
        "    fieldnames = ['Name', 'Hire Date', 'Salary', 'Sick Days']\r\n",
        "    writer = csv.DictWriter(csv_file, fieldnames=fieldnames)\r\n",
        "\r\n",
        "    writer.writeheader()\r\n",
        "    writer.writerow({'Name': 'Graham Chapman', 'Hire Date': '3/15/14', 'Salary': '50000.00', 'Sick Days': '10'})\r\n",
        "    writer.writerow({'Name': 'John Cleese', 'Hire Date': '06/01/15', 'Salary': '65000.00', 'Sick Days': '8'})\r\n",
        "    writer.writerow({'Name': 'Eric Idle', 'Hire Date': '05/12/14', 'Salary': '45000.00', 'Sick Days': '10'})\r\n",
        "    writer.writerow({'Name': 'Terry Jones', 'Hire Date': '11/01/13', 'Salary': '70000.00', 'Sick Days': '3'})\r\n",
        "    writer.writerow({'Name': 'Terry Gilliam', 'Hire Date': '08/12/14', 'Salary': '48000.00', 'Sick Days': '7'})\r\n",
        "    writer.writerow({'Name': 'Michael Palin', 'Hire Date': '05/23/13', 'Salary': '66000.00', 'Sick Days': '8'})\r\n",
        "    "
      ],
      "execution_count": 7,
      "outputs": []
    },
    {
      "cell_type": "code",
      "metadata": {
        "colab": {
          "base_uri": "https://localhost:8080/"
        },
        "id": "HKX0V6Ie-QBE",
        "outputId": "431ada50-b540-4ba6-e81a-7c402b16572d"
      },
      "source": [
        "#Czytanie plików .csv za pomocą biblioteki pandas\r\n",
        "\r\n",
        "df = pd.read_csv('hrdata.csv', index_col = 'Name')\r\n",
        "print(df)"
      ],
      "execution_count": 10,
      "outputs": [
        {
          "output_type": "stream",
          "text": [
            "               Hire Date   Salary  Sick Days\n",
            "Name                                        \n",
            "Graham Chapman   3/15/14  50000.0         10\n",
            "John Cleese     06/01/15  65000.0          8\n",
            "Eric Idle       05/12/14  45000.0         10\n",
            "Terry Jones     11/01/13  70000.0          3\n",
            "Terry Gilliam   08/12/14  48000.0          7\n",
            "Michael Palin   05/23/13  66000.0          8\n"
          ],
          "name": "stdout"
        }
      ]
    },
    {
      "cell_type": "code",
      "metadata": {
        "colab": {
          "base_uri": "https://localhost:8080/"
        },
        "id": "tF0kr3xL_3Qz",
        "outputId": "68a821b6-c71d-4e21-f132-a3d9c1cac034"
      },
      "source": [
        "#pisanie plików .csv z pomocą biblioteki pandas\r\n",
        "#zmiana indexu na emooyee\r\n",
        "#parsowanie dat\r\n",
        "import pandas\r\n",
        "df = pandas.read_csv('hrdata.csv', \r\n",
        "            index_col='Employee', \r\n",
        "            parse_dates=['Hired'],\r\n",
        "            header=0, \r\n",
        "            names=['Employee', 'Hired', 'Salary', 'Sick Days'])\r\n",
        "df.to_csv('hrdata_modified.csv')\r\n",
        "\r\n",
        "df = pd.read_csv('hrdata_modified.csv')\r\n",
        "print(df)"
      ],
      "execution_count": 12,
      "outputs": [
        {
          "output_type": "stream",
          "text": [
            "         Employee       Hired   Salary  Sick Days\n",
            "0  Graham Chapman  2014-03-15  50000.0         10\n",
            "1     John Cleese  2015-06-01  65000.0          8\n",
            "2       Eric Idle  2014-05-12  45000.0         10\n",
            "3     Terry Jones  2013-11-01  70000.0          3\n",
            "4   Terry Gilliam  2014-08-12  48000.0          7\n",
            "5   Michael Palin  2013-05-23  66000.0          8\n"
          ],
          "name": "stdout"
        }
      ]
    }
  ]
}