{
  "nbformat": 4,
  "nbformat_minor": 0,
  "metadata": {
    "colab": {
      "name": "Zad3.ipynb",
      "provenance": [],
      "authorship_tag": "ABX9TyMaH+8G6c5DeS0wqsYIMAW+",
      "include_colab_link": true
    },
    "kernelspec": {
      "name": "python3",
      "display_name": "Python 3"
    }
  },
  "cells": [
    {
      "cell_type": "markdown",
      "metadata": {
        "id": "view-in-github",
        "colab_type": "text"
      },
      "source": [
        "<a href=\"https://colab.research.google.com/github/patryktk/175IC-machine-learning-21176/blob/main/Zad3/Zad3.ipynb\" target=\"_parent\"><img src=\"https://colab.research.google.com/assets/colab-badge.svg\" alt=\"Open In Colab\"/></a>"
      ]
    },
    {
      "cell_type": "code",
      "metadata": {
        "id": "9OuS2rwgsnc8"
      },
      "source": [
        "import sklearn;\n",
        "import numpy as np;\n",
        "import pandas as pd;\n",
        "import matplotlib.pyplot as plt\n",
        "import seaborn as sns\n",
        "\n",
        "np.random.seed(42)\n",
        "\n",
        "df_raw = pd.read_csv('https://storage.googleapis.com/esmartdata-courses-files/ml-course/insurance.csv')\n",
        "df_raw.head()\n",
        "df = df_raw.copy()\n",
        "\n",
        "df[df.duplicated()]\n",
        "df = df.drop_duplicates()\n",
        "df"
      ],
      "execution_count": null,
      "outputs": []
    },
    {
      "cell_type": "code",
      "metadata": {
        "id": "9BbR7nGHFBjg"
      },
      "source": [
        "for col in ['sex', 'smoker', 'region']:\n",
        "    df[col] = df[col].astype('category');\n",
        "\n",
        "df.sex.value_counts().plot(kind='pie')\n",
        "df.smoker.value_counts()\n",
        "df.charges.plot(kind='hist', bins =30)"
      ],
      "execution_count": null,
      "outputs": []
    },
    {
      "cell_type": "code",
      "metadata": {
        "id": "Jrow-WkjFE7q"
      },
      "source": [
        "df_dummies = pd.get_dummies(df, drop_first=True)\n",
        "corr = df_dummies.corr()\n",
        "corr"
      ],
      "execution_count": null,
      "outputs": []
    },
    {
      "cell_type": "code",
      "metadata": {
        "id": "iuAPyH-TFJFT"
      },
      "source": [
        "sns.set(style=\"white\") #białe tło dla wykresu\n",
        "mask = np.zeros_like(corr) #zerowa maska o wielkości corr\n",
        "mask[np.triu_indices_from(mask)] = 1 #ustawiamy 1 w wartościach, które się powtarzaja\n",
        "plt.subplots(figsize=(10,10)) #wielkość wykresu\n",
        "cmap = sns.diverging_palette(200,10) #gradient kolorow\n",
        "sns.heatmap(corr, mask=mask,cmap=cmap,vmax=0.25,vmin=0.25)\n",
        "df_dummies.corr()['charges'].sort_values(ascending=True)\n",
        "df_dummies.corr()['charges'].sort_values().plot(kind='barh')"
      ],
      "execution_count": null,
      "outputs": []
    },
    {
      "cell_type": "code",
      "metadata": {
        "id": "VZ9TSm-4YgfR"
      },
      "source": [
        "from sklearn.model_selection import train_test_split\n",
        "\n",
        "x1 = df_dummies['charges']\n",
        "y1 = df_dummies.drop(columns='charges')\n",
        "X_train,X_test,y_train,y_test = train_test_split(y1,x1,test_size=0.2)\n",
        "print(X_train)\n",
        "print(y_train)"
      ],
      "execution_count": null,
      "outputs": []
    },
    {
      "cell_type": "code",
      "metadata": {
        "id": "X5U_pQvwXprQ"
      },
      "source": [
        "from sklearn.linear_model import LinearRegression\n",
        "from sklearn.metrics import mean_absolute_error\n",
        "\n",
        "regressor = LinearRegression()\n",
        "regressor.fit(X_train, y_train)\n",
        "print(f'R2 score: {regressor.score(X_test, y_test):.4f}')\n",
        "\n",
        "y_pred = regressor.predict(X_test)\n",
        "y_pred[:10]\n",
        "y_true = y_test.copy()\n",
        "predictions = pd.DataFrame(data={'y_true':y_true,'y_pred': y_pred})\n",
        "predictions['error'] = predictions['y_true'] - predictions['y_pred']\n",
        "predictions.head()\n",
        "predictions.error.plot(kind='hist', bins=30)\n",
        "\n",
        "\n",
        "mea = mean_absolute_error(y_true, y_pred)\n",
        "print(f'MAE wynosi: {mea:.2f}')"
      ],
      "execution_count": null,
      "outputs": []
    },
    {
      "cell_type": "markdown",
      "metadata": {
        "id": "rM4o2hcVayMk"
      },
      "source": [
        ""
      ]
    },
    {
      "cell_type": "code",
      "metadata": {
        "id": "yBVKNjlsaDLh"
      },
      "source": [
        "import statsmodels.api as sm\n",
        "\n",
        "X_train_ols = sm.add_constant(X_train.values)\n",
        "ols = sm.OLS(endog=y_train, exog=X_train_ols).fit()\n",
        "predictors = ['const'] + list(X_train.columns)\n",
        "print(ols.summary(xname=predictors))"
      ],
      "execution_count": null,
      "outputs": []
    },
    {
      "cell_type": "code",
      "metadata": {
        "id": "8afKtmAAaqdh"
      },
      "source": [
        "#2 \n",
        "import sys\n",
        "df_2 = df_dummies.drop(columns=['region_southwest','region_northwest','sex_male','children','region_southeast'])\n",
        "\n",
        "x1 = df_2['charges']\n",
        "y1 = df_2.drop(columns='charges')\n",
        "X_train,X_test,y_train,y_test = train_test_split(y1,x1,test_size=0.2)\n",
        "\n",
        "regresion = LinearRegression()\n",
        "regresion.fit(X_train, y_train)\n",
        "\n",
        "\n",
        "y_pred = regresion.predict(X_test)\n",
        "y_true = y_test.copy()\n",
        "\n",
        "mea_2 = mean_absolute_error(y_true, y_pred)\n",
        "print(f'R2 score: {regressor.score(X_test, y_test):.4f}')\n",
        "print(f'R2_2 score: {regresion.score(X_test, y_test):.4f}')\n",
        "\n",
        "print(f'MAE wyonsi: {mea:.2f}')\n",
        "print(f'MAE_2 wynosi: {mea_2:.2f}')\n",
        "\n",
        "size_before = sys.getsizeof(df_dummies)\n",
        "print(f'Rozmiar 1: {size_before}')\n",
        "size_after = sys.getsizeof(df_2)\n",
        "print(f'Rozmiar 2: {size_after}')\n",
        "\n",
        "print(f'Oszczędzono {100-(size_after/size_before * 100):.4}% miejsca')"
      ],
      "execution_count": null,
      "outputs": []
    }
  ]
}