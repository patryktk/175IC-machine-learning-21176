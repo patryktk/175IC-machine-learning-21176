{
  "nbformat": 4,
  "nbformat_minor": 0,
  "metadata": {
    "colab": {
      "name": "Lab9.ipynb",
      "provenance": [],
      "mount_file_id": "10K7w8RjBZ4R6Qy2AodgMJ0LKeKel6t3K",
      "authorship_tag": "ABX9TyO2At2MBghWulo6gkWRogKE",
      "include_colab_link": true
    },
    "kernelspec": {
      "name": "python3",
      "display_name": "Python 3"
    }
  },
  "cells": [
    {
      "cell_type": "markdown",
      "metadata": {
        "id": "view-in-github",
        "colab_type": "text"
      },
      "source": [
        "<a href=\"https://colab.research.google.com/github/patryktk/175IC-machine-learning-21176/blob/main/LAb9/Lab9.ipynb\" target=\"_parent\"><img src=\"https://colab.research.google.com/assets/colab-badge.svg\" alt=\"Open In Colab\"/></a>"
      ]
    },
    {
      "cell_type": "code",
      "metadata": {
        "id": "lBfPM6OPZ8P0"
      },
      "source": [
        "import imutils\r\n",
        "import cv2\r\n",
        "from google.colab.patches import cv2_imshow"
      ],
      "execution_count": 1,
      "outputs": []
    },
    {
      "cell_type": "code",
      "metadata": {
        "id": "GtQUaxlzaBNA"
      },
      "source": [
        "#ładowanie obrazy\r\n",
        "image = cv2.imread(\"images/car.jpg\")\r\n",
        "(h, w, d) = image.shape\r\n",
        "print(\"width={}, height={}, depth={}\".format(w, h, d))\r\n",
        "\r\n",
        "#Wyświetlanie obrazu\r\n",
        "cv2_imshow(image)"
      ],
      "execution_count": null,
      "outputs": []
    },
    {
      "cell_type": "code",
      "metadata": {
        "id": "VfeiUZGBfY2i"
      },
      "source": [
        "#Otrzymywanie danych na temat poszczególnego piksela\r\n",
        "(B, G, R) = image[150, 150]\r\n",
        "print(\"R={}, G={}, B={}\".format(R, G, B))"
      ],
      "execution_count": null,
      "outputs": []
    },
    {
      "cell_type": "code",
      "metadata": {
        "id": "c5ppmwCNhlvO"
      },
      "source": [
        "#zmiana rozmiaru obrazy bez uwzględniania ratio\r\n",
        "resized = cv2.resize(image, (300, 300))\r\n",
        "cv2.imwrite(\"images/resized-car.jpg\", resized)\r\n",
        "cv2_imshow(resized)"
      ],
      "execution_count": null,
      "outputs": []
    },
    {
      "cell_type": "code",
      "metadata": {
        "id": "1xF4o7DFkpEG"
      },
      "source": [
        "#obliczanie ratio i resize poprawny\r\n",
        "r = 300.0 / w\r\n",
        "dim = (300, int(h * r))\r\n",
        "fixed_resized = cv2.resize(image, dim)\r\n",
        "cv2.imwrite(\"images/ratio-resized-car.jpg\", fixed_resized)\r\n",
        "cv2_imshow(fixed_resized)"
      ],
      "execution_count": null,
      "outputs": []
    },
    {
      "cell_type": "code",
      "metadata": {
        "id": "1U6uNGsDlmPf"
      },
      "source": [
        "#resize obrazu z wykorzystaniem imutils\r\n",
        "imutils_fixed_resized = imutils.resize(image,width=300)\r\n",
        "cv2.imwrite(\"images/imutils-fixed-resize.jpg\",imutils_fixed_resized)\r\n",
        "cv2_imshow(imutils_fixed_resized)"
      ],
      "execution_count": null,
      "outputs": []
    },
    {
      "cell_type": "code",
      "metadata": {
        "id": "OEGacbvhoFUk"
      },
      "source": [
        "#obracanie onrazu\r\n",
        "center = (w // 2, h // 2)\r\n",
        "M = cv2.getRotationMatrix2D(center, -45, 1.0)\r\n",
        "rotated = cv2.warpAffine(image, M, (w, h))\r\n",
        "cv2.imwrite(\"images/rotate-car.jpg\",rotated)\r\n",
        "cv2_imshow(rotated)"
      ],
      "execution_count": null,
      "outputs": []
    },
    {
      "cell_type": "code",
      "metadata": {
        "id": "oAFjUGiwm_gw"
      },
      "source": [
        "#Obracanie obrazu z wykorzstaniem imutils\r\n",
        "rotated = imutils.rotate(image, -45)\r\n",
        "cv2.imwrite(\"images/imutils-rotate-car.jpg\",rotated)\r\n",
        "cv2_imshow(rotated)"
      ],
      "execution_count": null,
      "outputs": []
    },
    {
      "cell_type": "code",
      "metadata": {
        "id": "fGrAligxoAlu"
      },
      "source": [
        "#Obracanie obrazu z wykorzstaniem imutils.rotate_bound\r\n",
        "rotated = imutils.rotate_bound(image, 45)\r\n",
        "cv2.imwrite(\"images/imutils-rotate-bound-car.jpg\",rotated)\r\n",
        "cv2_imshow(rotated)"
      ],
      "execution_count": null,
      "outputs": []
    },
    {
      "cell_type": "code",
      "metadata": {
        "id": "nXU0n75gpf75"
      },
      "source": [
        "#rozmycie obrazu\r\n",
        "blurred = cv2.GaussianBlur(image, (11, 11), 0)\r\n",
        "cv2.imwrite(\"images/blurred-car.jpg\",blurred)\r\n",
        "cv2_imshow(blurred)"
      ],
      "execution_count": null,
      "outputs": []
    },
    {
      "cell_type": "code",
      "metadata": {
        "id": "-fs6mk7dpyAY"
      },
      "source": [
        "#Rysowanie po obrazie (kwadrat)\r\n",
        "output = image.copy()\r\n",
        "cv2.rectangle(output, (320, 60), (420, 160), (0, 0, 255), 2)\r\n",
        "cv2.imwrite(\"images/car-draw-rectangle.jpg\",output)\r\n",
        "cv2_imshow(output)"
      ],
      "execution_count": null,
      "outputs": []
    },
    {
      "cell_type": "code",
      "metadata": {
        "id": "lw5zDYykqLkd"
      },
      "source": [
        "#Rysowanie po obrazie cz.2 (koło)\r\n",
        "output_2 = image.copy()\r\n",
        "cv2.circle(output_2, (300, 150), 20, (255, 0, 0), -1)\r\n",
        "cv2.imwrite(\"images/car-draw-circle.jpg\",output_2)\r\n",
        "cv2_imshow(output_2)"
      ],
      "execution_count": null,
      "outputs": []
    },
    {
      "cell_type": "code",
      "metadata": {
        "id": "93ZeCjmtqrKU"
      },
      "source": [
        "#Rysowanie po obrazie cz.3 (linia)\r\n",
        "output_3 = image.copy()\r\n",
        "cv2.line(output_3, (60, 20), (400, 200), (0, 0, 255), 5)\r\n",
        "cv2.imwrite(\"images/car-draw-line.jpg\",output_3)\r\n",
        "cv2_imshow(output_3)"
      ],
      "execution_count": null,
      "outputs": []
    },
    {
      "cell_type": "code",
      "metadata": {
        "id": "_Q1s29lrrHLm"
      },
      "source": [
        "#Dodawnie tekstu do obrazu\r\n",
        "output_4 = image.copy()\r\n",
        "cv2.putText(output_4, \"OpenCV + 1970 Charger\", (10, 25), \r\n",
        "\tcv2.FONT_HERSHEY_SIMPLEX, 0.7, (0, 255, 0), 2)\r\n",
        "cv2.imwrite(\"images/car-add-text.jpg\",output_4)\r\n",
        "cv2_imshow(output_4)"
      ],
      "execution_count": null,
      "outputs": []
    },
    {
      "cell_type": "code",
      "metadata": {
        "id": "c49dYjXjrbXh"
      },
      "source": [
        "#Konwertowanie obrazu do odcieni szarości\r\n",
        "gray = cv2.cvtColor(image, cv2.COLOR_BGR2GRAY)\r\n",
        "cv2.imwrite(\"images/car-gray.jpg\",gray)\r\n",
        "cv2_imshow(gray)"
      ],
      "execution_count": null,
      "outputs": []
    },
    {
      "cell_type": "code",
      "metadata": {
        "id": "Xi_k68drxuHR"
      },
      "source": [
        "#Wykrywanie krawędzi\r\n",
        "edged = cv2.Canny(gray, 30, 150)\r\n",
        "cv2.imwrite(\"images/car-edged.jpg\",edged)\r\n",
        "cv2_imshow(edged)"
      ],
      "execution_count": null,
      "outputs": []
    },
    {
      "cell_type": "code",
      "metadata": {
        "id": "DKtmEvwOx8f-"
      },
      "source": [
        "#Progowanie - wyznaczanie poziomu jasności dla zdjęcia\r\n",
        "thresh = cv2.threshold(gray, 225, 255, cv2.THRESH_BINARY_INV)[1]\r\n",
        "cv2.imwrite(\"images/car-thresh.jpg\",thresh)\r\n",
        "cv2_imshow(thresh)"
      ],
      "execution_count": null,
      "outputs": []
    },
    {
      "cell_type": "code",
      "metadata": {
        "id": "8xsx03zDyL7C"
      },
      "source": [
        "#Znajdowanie oraz oznaczenie kontur\r\n",
        "cnts = cv2.findContours(thresh.copy(), cv2.RETR_EXTERNAL,\r\n",
        "\tcv2.CHAIN_APPROX_SIMPLE)\r\n",
        "cnts = imutils.grab_contours(cnts)\r\n",
        "output_5 = image.copy()\r\n",
        "\r\n",
        "for c in cnts:\r\n",
        "  cv2.drawContours(output_5, [c], -1, (240, 0, 159), 10)\r\n",
        "  \r\n",
        "cv2.imwrite(\"images/car-drawContours.jpg\", output_5)\r\n",
        "cv2_imshow(output_5)"
      ],
      "execution_count": null,
      "outputs": []
    },
    {
      "cell_type": "code",
      "metadata": {
        "id": "JbXYc5XSyod9"
      },
      "source": [
        "#Erozja i dylatacja\r\n",
        "mask = thresh.copy()\r\n",
        "mask_2 = thresh.copy()\r\n",
        "mask = cv2.erode(mask, None, iterations=2)\r\n",
        "mask_2 = cv2.dilate(mask_2, None, iterations=5)\r\n",
        "cv2.imwrite(\"images/car-eroded.jpg\", mask)\r\n",
        "cv2.imwrite(\"images/car-eroded.jpg\", mask_2)\r\n",
        "cv2_imshow(mask)\r\n",
        "cv2_imshow(mask_2)"
      ],
      "execution_count": null,
      "outputs": []
    },
    {
      "cell_type": "code",
      "metadata": {
        "id": "Ul6KWAzhy2HY"
      },
      "source": [
        "#Operacje maskowe i bitowe\r\n",
        "mask_3 = thresh.copy()\r\n",
        "output_6 = cv2.bitwise_and(image, image, mask=mask)\r\n",
        "cv2.imwrite(\"images/car2-mask.jpg\", output_6)\r\n",
        "cv2_imshow(output_6)"
      ],
      "execution_count": null,
      "outputs": []
    }
  ]
}