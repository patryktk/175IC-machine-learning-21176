{
  "nbformat": 4,
  "nbformat_minor": 0,
  "metadata": {
    "colab": {
      "name": "Lab8_json.ipynb",
      "provenance": [],
      "authorship_tag": "ABX9TyNbrtgSACyK1o8kzWPM1BdR",
      "include_colab_link": true
    },
    "kernelspec": {
      "name": "python3",
      "display_name": "Python 3"
    }
  },
  "cells": [
    {
      "cell_type": "markdown",
      "metadata": {
        "id": "view-in-github",
        "colab_type": "text"
      },
      "source": [
        "<a href=\"https://colab.research.google.com/github/patryktk/175IC-machine-learning-21176/blob/main/Lab8/Lab8_json.ipynb\" target=\"_parent\"><img src=\"https://colab.research.google.com/assets/colab-badge.svg\" alt=\"Open In Colab\"/></a>"
      ]
    },
    {
      "cell_type": "code",
      "metadata": {
        "id": "DE2YJjQq6IDK"
      },
      "source": [
        "import json\r\n",
        "import requests"
      ],
      "execution_count": null,
      "outputs": []
    },
    {
      "cell_type": "code",
      "metadata": {
        "id": "JabpBtP4_b25"
      },
      "source": [
        "#zapisywanie danych w formacie json\r\n",
        "data = {\r\n",
        "    \"student\":{\r\n",
        "        \"name\":\"Patryk Tkaczyk\",\r\n",
        "        \"species\":\"cos\"\r\n",
        "    }\r\n",
        "}"
      ],
      "execution_count": null,
      "outputs": []
    },
    {
      "cell_type": "code",
      "metadata": {
        "id": "6_xaRNuXBBMI"
      },
      "source": [
        "#zapisywanie danych do pliku .json\r\n",
        "with open(\"data_file.json\",\"w\") as write_file:\r\n",
        "  json.dump(data,write_file)\r\n",
        "\r\n",
        "#Dodanie wcięć w liście\r\n",
        "json_string = json.dumps(data, indent=4)\r\n",
        "json_string"
      ],
      "execution_count": null,
      "outputs": []
    },
    {
      "cell_type": "code",
      "metadata": {
        "id": "dIZ1A7dLJkBS"
      },
      "source": [
        "#Po zakodowaniu i odkodowaniu nie otrzymujemy tego samego.\r\n",
        "blackjack_hand = (8, \"Q\")\r\n",
        "encoded_hand = json.dumps(blackjack_hand)\r\n",
        "decoded_hand = json.loads(encoded_hand)\r\n",
        "\r\n",
        "print(blackjack_hand == decoded_hand)\r\n",
        "\r\n",
        "print(type(blackjack_hand))\r\n",
        "\r\n",
        "print(type(decoded_hand))\r\n",
        "\r\n",
        "blackjack_hand == tuple(decoded_hand)"
      ],
      "execution_count": null,
      "outputs": []
    },
    {
      "cell_type": "code",
      "metadata": {
        "id": "8VOfV61GM7ez"
      },
      "source": [
        "#Deserializacja z pliku\r\n",
        "with open(\"data_file.json\", \"r\") as read_file:\r\n",
        "    data = json.load(read_file)"
      ],
      "execution_count": null,
      "outputs": []
    },
    {
      "cell_type": "code",
      "metadata": {
        "id": "cHaFcqLROMxY"
      },
      "source": [
        "#Deserializacja z URL\r\n",
        "response = requests.get(\"https://jsonplaceholder.typicode.com/todos\")\r\n",
        "todos = json.loads(response.text)\r\n",
        "todos"
      ],
      "execution_count": null,
      "outputs": []
    },
    {
      "cell_type": "code",
      "metadata": {
        "id": "2T8RAwu_T_VE"
      },
      "source": [
        "#Wyświetla ukończone zadania\r\n",
        "todos_by_user = {}\r\n",
        "\r\n",
        "for todo in todos:\r\n",
        "  if todo[\"completed\"]:\r\n",
        "    try:\r\n",
        "      todos_by_user[todo[\"userId\"]] += 1\r\n",
        "    except KeyError:\r\n",
        "      todos_by_user[todo[\"userId\"]] = 1\r\n",
        "\r\n",
        "top_users = sorted(todos_by_user.items(), \r\n",
        "                   key=lambda x: x[1], reverse=True)\r\n",
        "\r\n",
        "print(f'Top postów: {top_users}')\r\n",
        "\r\n",
        "max_complete = top_users[0][1]\r\n",
        "users = []\r\n",
        "for user, num_complete in top_users:\r\n",
        "    if num_complete < max_complete:\r\n",
        "        break\r\n",
        "    users.append(str(user))\r\n",
        "\r\n",
        "max_users = \" and \".join(users)\r\n",
        "\r\n",
        "print(f'Osoby które ukończyły wszystkie taski: {max_users}')"
      ],
      "execution_count": null,
      "outputs": []
    },
    {
      "cell_type": "code",
      "metadata": {
        "id": "2vSrbz2ZVgF-"
      },
      "source": [
        "#Definicja funkcji, która filtruje użytkowników z wszystkimi zdaniami ukończonymi\r\n",
        "def keep(todo):\r\n",
        "    is_complete = todo[\"completed\"]\r\n",
        "    has_max_count = str(todo[\"userId\"]) in users\r\n",
        "    return is_complete and has_max_count\r\n",
        "\r\n",
        "#Zapis danych do JSON\r\n",
        "with open(\"json_file/filtered_data_file.json\", \"w\") as data_file:\r\n",
        "    filtered_todos = list(filter(keep, todos))\r\n",
        "    json.dump(filtered_todos, data_file, indent=2)\r\n",
        "\r\n",
        "filtered_todos"
      ],
      "execution_count": null,
      "outputs": []
    },
    {
      "cell_type": "code",
      "metadata": {
        "id": "XvjLmsayg1dk"
      },
      "source": [
        "def encode_complex(z):\r\n",
        "    if isinstance(z, complex):\r\n",
        "        return (z.real, z.imag)\r\n",
        "    else:\r\n",
        "        type_name = z.__class__.__name__\r\n",
        "        raise TypeError(f\"Object of type '{type_name}' is not JSON serializable\")\r\n",
        "json.dumps(9 + 5j, default=encode_complex)"
      ],
      "execution_count": null,
      "outputs": []
    },
    {
      "cell_type": "code",
      "metadata": {
        "colab": {
          "base_uri": "https://localhost:8080/"
        },
        "id": "gyNhrMU5hS29",
        "outputId": "5d137c94-2be1-41fc-8e55-e2b279b97e12"
      },
      "source": [
        "#Kodowanie z pomocą JSONEncoder\r\n",
        "class ComplexEncoder(json.JSONEncoder):\r\n",
        "    def default(self, z):\r\n",
        "        if isinstance(z, complex):\r\n",
        "            return (z.real, z.imag)\r\n",
        "        else:\r\n",
        "            return super().default(z)\r\n",
        "\r\n",
        "#Przykładowe wywołania kodowania powyżej\r\n",
        "print(f'json.dumps: {json.dumps(2 + 6j, cls=ComplexEncoder)}')\r\n",
        "encoder = ComplexEncoder()\r\n",
        "print(f'encoder.encode: {encoder.encode(3 + 6j)}')\r\n",
        "\r\n",
        "#Dekodowanie typów niestandardowych\r\n",
        "complex_json = json.dumps(4 + 17j, cls=ComplexEncoder)\r\n",
        "print(f'json.loads: {json.loads(complex_json)}')"
      ],
      "execution_count": null,
      "outputs": [
        {
          "output_type": "stream",
          "text": [
            "json.dumps: [2.0, 6.0]\n",
            "encoder.encode: [3.0, 6.0]\n",
            "json.loads: [4.0, 17.0]\n"
          ],
          "name": "stdout"
        }
      ]
    },
    {
      "cell_type": "code",
      "metadata": {
        "colab": {
          "base_uri": "https://localhost:8080/",
          "height": 248
        },
        "id": "CwljF9GXhhHk",
        "outputId": "55ba862d-5554-4f2c-b9d0-1b100e7038e9"
      },
      "source": [
        "#Dekodowanie klucza - definicja oraz odkodowanie\r\n",
        "def decode_complex(dct):\r\n",
        "    if \"__complex__\" in dct:\r\n",
        "        return complex(dct[\"real\"], dct[\"imag\"])\r\n",
        "    return dct\r\n",
        "\r\n",
        "with open(\"json_file/complex_data.json\") as complex_data:\r\n",
        "     data = complex_data.read()\r\n",
        "     z = json.loads(data, object_hook=decode_complex)\r\n",
        "\r\n",
        "print(z)"
      ],
      "execution_count": null,
      "outputs": [
        {
          "output_type": "error",
          "ename": "FileNotFoundError",
          "evalue": "ignored",
          "traceback": [
            "\u001b[0;31m---------------------------------------------------------------------------\u001b[0m",
            "\u001b[0;31mFileNotFoundError\u001b[0m                         Traceback (most recent call last)",
            "\u001b[0;32m<ipython-input-6-829681b1c550>\u001b[0m in \u001b[0;36m<module>\u001b[0;34m()\u001b[0m\n\u001b[1;32m      5\u001b[0m     \u001b[0;32mreturn\u001b[0m \u001b[0mdct\u001b[0m\u001b[0;34m\u001b[0m\u001b[0;34m\u001b[0m\u001b[0m\n\u001b[1;32m      6\u001b[0m \u001b[0;34m\u001b[0m\u001b[0m\n\u001b[0;32m----> 7\u001b[0;31m \u001b[0;32mwith\u001b[0m \u001b[0mopen\u001b[0m\u001b[0;34m(\u001b[0m\u001b[0;34m\"json_file/complex_data.json\"\u001b[0m\u001b[0;34m)\u001b[0m \u001b[0;32mas\u001b[0m \u001b[0mcomplex_data\u001b[0m\u001b[0;34m:\u001b[0m\u001b[0;34m\u001b[0m\u001b[0;34m\u001b[0m\u001b[0m\n\u001b[0m\u001b[1;32m      8\u001b[0m      \u001b[0mdata\u001b[0m \u001b[0;34m=\u001b[0m \u001b[0mcomplex_data\u001b[0m\u001b[0;34m.\u001b[0m\u001b[0mread\u001b[0m\u001b[0;34m(\u001b[0m\u001b[0;34m)\u001b[0m\u001b[0;34m\u001b[0m\u001b[0;34m\u001b[0m\u001b[0m\n\u001b[1;32m      9\u001b[0m      \u001b[0mz\u001b[0m \u001b[0;34m=\u001b[0m \u001b[0mjson\u001b[0m\u001b[0;34m.\u001b[0m\u001b[0mloads\u001b[0m\u001b[0;34m(\u001b[0m\u001b[0mdata\u001b[0m\u001b[0;34m,\u001b[0m \u001b[0mobject_hook\u001b[0m\u001b[0;34m=\u001b[0m\u001b[0mdecode_complex\u001b[0m\u001b[0;34m)\u001b[0m\u001b[0;34m\u001b[0m\u001b[0;34m\u001b[0m\u001b[0m\n",
            "\u001b[0;31mFileNotFoundError\u001b[0m: [Errno 2] No such file or directory: 'json_file/complex_data.json'"
          ]
        }
      ]
    }
  ]
}